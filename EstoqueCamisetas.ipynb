{
 "cells": [
  {
   "cell_type": "markdown",
   "metadata": {},
   "source": [
    "#Algoritmo para estoque"
   ]
  },
  {
   "cell_type": "code",
   "execution_count": 2,
   "metadata": {},
   "outputs": [
    {
     "name": "stdout",
     "output_type": "stream",
     "text": [
      "\u001b[1;31mProgram Turned Off\u001b[0;0m\n"
     ]
    }
   ],
   "source": [
    "marca_camiseta = ['Lacoste', 'Armani', 'Phillip Plein', 'Calvin Klein', 'Nike', 'Adidas', 'Puma', 'Umbra']\n",
    "estoque = [50, 60, 15, 23, 65, 74, 5, 0]\n",
    "valor_camiseta = [300, 190, 1250, 150, 120, 130, 100, 90]\n",
    "\n",
    "\n",
    "marcador = 0 \n",
    "while marcador < 1:\n",
    "    \n",
    "    searchlist = ['s', 'n']\n",
    "    search = input('Deseja fazer uma pesquisa?\\n responda com: s/n').strip().casefold()\n",
    "    \n",
    "    if search in searchlist:\n",
    "        if search == searchlist[1]:\n",
    "            print('\\033[1;31mProgram Turned Off\\033[0;0m')   \n",
    "            marcador += 1\n",
    "\n",
    "        elif search == searchlist[0]:\n",
    "            psq_camiseta = input('Insira a marca da camiseta que deseja pesquisar').strip().title()\n",
    "            \n",
    "            if not psq_camiseta in marca_camiseta:\n",
    "                print('Não temos a marca {} em estoque.'.format(psq_camiseta))\n",
    "                searchto_add = input('Deseja incluir {} no estoque?\\n responda com: s/n'.format(psq_camiseta)).strip().casefold()\n",
    "                if searchto_add in searchlist:\n",
    "\n",
    "                    if searchto_add == searchlist[0]:\n",
    "                        if not search == '':\n",
    "                            marca_camiseta.append(psq_camiseta)   \n",
    "                        else: \n",
    "                            pass\n",
    "                        if searchto_add == searchlist[0]:\n",
    "                            estoqueto_add = int(input('Qual o estoque deste produto?').strip())\n",
    "                            estoque.append(estoqueto_add)\n",
    "                                                                  \n",
    "                            if searchto_add == searchlist[0]:\n",
    "                                valor_camisetato_add = float(input('Qual o valor marca das camisetas adicionadas?').strip())\n",
    "                                valor_camiseta.append(valor_camisetato_add)            \n",
    "                                print(marca_camiseta)\n",
    "                                print(estoque)\n",
    "                                print(valor_camiseta)\n",
    "                                break\n",
    "                    else:\n",
    "                        print('O produto não será adicionado.')\n",
    "                        break\n",
    "            \n",
    "            i = marca_camiseta.index(psq_camiseta) \n",
    "            qnt_estoque = estoque[i]\n",
    "            preco_camiseta = valor_camiseta[i]\n",
    "            if psq_camiseta in marca_camiseta and qnt_estoque >= 1:\n",
    "                print('Temos camisetas da \\033[1;36m{}\\033[0;0m em estoque.\\nTotalizando em \\033[0;93m{}\\033[0;0m unidades.\\nSeu valor unitário é de \\033[0;32mR${:_.2f}\\033[0;0m'.format(psq_camiseta, qnt_estoque, preco_camiseta).replace('.',',').replace('_','.'))\n",
    "                \n",
    "\n",
    "            elif psq_camiseta in marca_camiseta and qnt_estoque == 0:\n",
    "                print('Temos esta marca em nossa loja, entretanto no momento estamos sem estoque.')\n",
    "            \n",
    "            else:\n",
    "                break           \n",
    "\n",
    "        marcador += 1\n",
    "        \n",
    "    else: \n",
    "        print('Preencha os dados somente com \"s\" ou \"n\". ')\n",
    "        marcador += 1\n"
   ]
  },
  {
   "cell_type": "code",
   "execution_count": null,
   "metadata": {},
   "outputs": [],
   "source": [
    "i = valor_camiseta.index(max(valor_camiseta))\n",
    "produto_mais_caro = marca_camiseta[i]\n",
    "\n",
    "print('O produto mais caro da loja é da marca {}'.format(produto_mais_caro))\n",
    "\n",
    "i = valor_camiseta.index(min(valor_camiseta))\n",
    "produto_menos_caro = marca_camiseta[i]\n",
    "\n",
    "print('O produto onde o valor é menor é da marca {}'.format(produto_menos_caro))"
   ]
  },
  {
   "cell_type": "code",
   "execution_count": null,
   "metadata": {},
   "outputs": [],
   "source": [
    "i = estoque.index(max(estoque))\n",
    "prod_maior_qnt_estoque = marca_camiseta[i]\n",
    "\n",
    "print('A marca {} é a que mais tem no nosso estoque'.format(prod_maior_qnt_estoque))\n",
    "\n",
    "i = estoque.index(min(estoque))\n",
    "prod_menor_qnt_estoque = marca_camiseta[i]\n",
    "\n",
    "print('A marca {} é a que menos tem no nosso estoque, totalizando em {}'.format(prod_menor_qnt_estoque, min(estoque)))"
   ]
  },
  {
   "cell_type": "code",
   "execution_count": null,
   "metadata": {},
   "outputs": [],
   "source": [
    "#achar o lucro da camiseta mais cara\n",
    "i = valor_camiseta.index(max(valor_camiseta))\n",
    "produto_mais_caro = marca_camiseta[i]\n",
    "qnt_estoque_produto_mais_caro = estoque[i]\n",
    "preco_camiseta_produto_mais_caro = valor_camiseta[i]\n",
    "\n",
    "\n",
    "mult = qnt_estoque_produto_mais_caro * preco_camiseta_produto_mais_caro\n",
    "print('R${:_.2f}'.format(mult).replace('.',',').replace('_','.'))\n",
    "\n"
   ]
  }
 ],
 "metadata": {
  "interpreter": {
   "hash": "8003219c8c57211ee3be347d121ba14ebad7276cdae3d94be72d9e4e17f9edd5"
  },
  "kernelspec": {
   "display_name": "Python 3.9.7 ('base')",
   "language": "python",
   "name": "python3"
  },
  "language_info": {
   "codemirror_mode": {
    "name": "ipython",
    "version": 3
   },
   "file_extension": ".py",
   "mimetype": "text/x-python",
   "name": "python",
   "nbconvert_exporter": "python",
   "pygments_lexer": "ipython3",
   "version": "3.9.7"
  },
  "orig_nbformat": 4
 },
 "nbformat": 4,
 "nbformat_minor": 2
}
